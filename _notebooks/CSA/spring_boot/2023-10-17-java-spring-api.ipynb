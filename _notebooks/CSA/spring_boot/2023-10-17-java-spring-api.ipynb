{
 "cells": [
  {
   "cell_type": "raw",
   "metadata": {
    "vscode": {
     "languageId": "raw"
    }
   },
   "source": [
    "---\n",
    "layout: post \n",
    "title: API Controller\n",
    "description: Creating an API request and response to the Spring Boot application.\n",
    "permalink: /java/spring/api/\n",
    "categories: [Java Spring]\n",
    "menu: nav/java_spring.html\n",
    "---"
   ]
  },
  {
   "cell_type": "markdown",
   "metadata": {},
   "source": [
    "### API Controller\n",
    "\n",
    "> This backend piece of the Spring process is building out the RESTful API services to access the data.  Below is the JokesApiController, this is commented extensively.  It is left for the student to review and update the \"Spring API and ORM\" illustration and add it to their personal blogging notes from the notes and code below.\n",
    "- @Autowired annotation provides full access to JokesJpaRepository, what we made with the code above.  Review repository.<actions>, there are actions for set, get, save and more.\n",
    "- @GetMapping and @PutMapping which establishes endpoints for RESTful web services to access the data.\n",
    "- API @PathVariable for obtaining information from the request URL.\n",
    "- The respones \"return new ResponseEntity\" returning JSON and Statis/\n",
    "\n",
    "```java\n",
    "import org.springframework.beans.factory.annotation.Autowired;\n",
    "import org.springframework.http.HttpStatus;\n",
    "import org.springframework.http.ResponseEntity;\n",
    "import org.springframework.web.bind.annotation.*;\n",
    "\n",
    "import java.util.List;\n",
    "import java.util.Optional;\n",
    "\n",
    "@RestController // annotation to simplify the creation of RESTful web services\n",
    "@RequestMapping(\"/api/jokes\")  // all requests in file begin with this URI\n",
    "public class JokesApiController {\n",
    "\n",
    "    // Autowired enables Control to connect URI request and POJO Object to easily for Database CRUD operations\n",
    "    @Autowired\n",
    "    private JokesJpaRepository repository;\n",
    "\n",
    "    /* GET List of Jokes\n",
    "     * @GetMapping annotation is used for mapping HTTP GET requests onto specific handler methods.\n",
    "     */\n",
    "    @GetMapping(\"/\")\n",
    "    public ResponseEntity<List<Jokes>> getJokes() {\n",
    "        // ResponseEntity returns List of Jokes provide by JPA findAll()\n",
    "        return new ResponseEntity<>( repository.findAll(), HttpStatus.OK);\n",
    "    }\n",
    "\n",
    "    /* Update Like\n",
    "     * @PutMapping annotation is used for mapping HTTP PUT requests onto specific handler methods.\n",
    "     * @PathVariable annotation extracts the templated part {id}, from the URI\n",
    "     */\n",
    "    @PutMapping(\"/like/{id}\")\n",
    "    public ResponseEntity<Jokes> setLike(@PathVariable long id) {\n",
    "        /* \n",
    "        * Optional (below) is a container object which helps determine if a result is present. \n",
    "        * If a value is present, isPresent() will return true\n",
    "        * get() will return the value.\n",
    "        */\n",
    "        Optional<Jokes> optional = repository.findById(id);\n",
    "        if (optional.isPresent()) {  // Good ID\n",
    "            Jokes joke = optional.get();  // value from findByID\n",
    "            joke.setHaha(joke.getHaha()+1); // increment value\n",
    "            repository.save(joke);  // save entity\n",
    "            return new ResponseEntity<>(joke, HttpStatus.OK);  // OK HTTP response: status code, headers, and body\n",
    "        }\n",
    "        // Bad ID\n",
    "        return new ResponseEntity<>(HttpStatus.BAD_REQUEST);  // Failed HTTP response: status code, headers, and body\n",
    "    }\n",
    "\n",
    "    /* Update Jeer\n",
    "     */\n",
    "    @PutMapping(\"/jeer/{id}\")\n",
    "    public ResponseEntity<Jokes> setJeer(@PathVariable long id) {\n",
    "        Optional<Jokes> optional = repository.findById(id);\n",
    "        if (optional.isPresent()) {  // Good ID\n",
    "            Jokes joke = optional.get();\n",
    "            joke.setBoohoo(joke.getBoohoo()+1);\n",
    "            repository.save(joke);\n",
    "            return new ResponseEntity<>(joke, HttpStatus.OK);\n",
    "        }\n",
    "        // Bad ID\n",
    "        return new ResponseEntity<>(HttpStatus.BAD_REQUEST);\n",
    "    }\n",
    "}\n",
    "```"
   ]
  }
 ],
 "metadata": {
  "language_info": {
   "name": "python"
  }
 },
 "nbformat": 4,
 "nbformat_minor": 2
}
