{
 "cells": [
  {
   "cell_type": "raw",
   "metadata": {
    "vscode": {
     "languageId": "raw"
    }
   },
   "source": [
    "---\n",
    "layout: post \n",
    "title: Plain Old Java Objects (POJO) \n",
    "description: Define a POJO, essentially an class with @Entity properties that enables it to be used with Spring Boot in the process of making a database.\n",
    "permalink: /java/spring/pojo/\n",
    "categories: [Java Spring]\n",
    "menu: nav/java_spring.html\n",
    "---"
   ]
  },
  {
   "cell_type": "markdown",
   "metadata": {},
   "source": [
    "### POJO Review\n",
    "\n",
    "> This code fragment shows power of Spring and Annotations to define a Model.  Using Spring, a little bit of POJO code, the Developer is enabling persistent data storage of a table in a database. It is left to student to search up each annotation for personal clarification beyond the comments below.\n",
    "\n",
    "```java\n",
    "import lombok.AllArgsConstructor;\n",
    "import lombok.Data;\n",
    "import lombok.NoArgsConstructor;\n",
    "import javax.persistence.*;\n",
    "\n",
    "@Data  // Annotations to simplify writing code (ie constructors, setters)\n",
    "@NoArgsConstructor  // Builds zero argument constructor\n",
    "@AllArgsConstructor // Builds constructor for all agurments\n",
    "@Entity // Annotation to simplify creating an entity, which is a lightweight persistence domain object. Typically, an entity represents a table in a relational database, and each entity instance corresponds to a row in that table.\n",
    "public class Jokes {\n",
    "    @Id\n",
    "    @GeneratedValue(strategy = GenerationType.AUTO)\n",
    "    private Long id;  // Unique identifier\n",
    "\n",
    "    @Column(unique=true)\n",
    "    private String joke;  // The Joke\n",
    "\n",
    "    private int haha;  // Store joke likes\n",
    "    private int boohoo;  // Store joke jeers\n",
    "}\n",
    "```"
   ]
  }
 ],
 "metadata": {
  "language_info": {
   "name": "python"
  }
 },
 "nbformat": 4,
 "nbformat_minor": 2
}
