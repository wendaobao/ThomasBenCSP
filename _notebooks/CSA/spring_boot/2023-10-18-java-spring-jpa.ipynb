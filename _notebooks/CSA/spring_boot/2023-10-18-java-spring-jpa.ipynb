{
 "cells": [
  {
   "cell_type": "raw",
   "metadata": {
    "vscode": {
     "languageId": "raw"
    }
   },
   "source": [
    "---\n",
    "layout: post \n",
    "title: Java Persistent API (JPA)\n",
    "description: Define the JPA layer.  The JPA enables frontend to query backend and returns a list.\n",
    "permalink: /java/spring/jpa/\n",
    "categories: [Java Spring]\n",
    "menu: nav/java_spring.html\n",
    "---"
   ]
  },
  {
   "cell_type": "markdown",
   "metadata": {},
   "source": [
    "### Java Persistence API (JPA)\n",
    "\n",
    "> The JPA code is defined to access the database. The JokesJpaRepository interface extends JpaRepository.  This allows the developer access JPA predefined and developer custom interfaces to perform CRUD operations on persistent storage.  It is left to student to define \"Delete\" operation in CRUD.\n",
    "\n",
    "```java\n",
    "import java.util.List;\n",
    "import org.springframework.data.jpa.repository.JpaRepository;\n",
    "\n",
    "// JPA is an object-relational mapping (ORM) to persistent data, originally relational databases (SQL). Today JPA implementations has been extended for NoSQL.\n",
    "public interface JokesJpaRepository extends JpaRepository<Jokes, Long> {\n",
    "    // JPA has many built in methods, these few have been prototyped for this application\n",
    "    void save(String Joke);  // used for Create, Update operations in CRUD\n",
    "\n",
    "    // Accessors, Read operations in CRUD\n",
    "    List<Jokes> findAllByOrderByJokeAsc();  // returns a List of Jokes in Ascending order\n",
    "    List<Jokes> findByJokeIgnoreCase(String joke);  // look to see if Joke(s) exist\n",
    "}\n",
    "```\n",
    "\n",
    "### JPA returns List\n",
    "> List is a super class to ArrayList.  In the JPA code you can see that List of Jokes is common result from JPA accessor method.  It is left to the student to review [List and ArrayList from GeeksForGeeks](https://www.geeksforgeeks.org/difference-between-list-and-arraylist-in-java/) and understand research difference between interface and implementation."
   ]
  }
 ],
 "metadata": {
  "language_info": {
   "name": "python"
  }
 },
 "nbformat": 4,
 "nbformat_minor": 2
}
