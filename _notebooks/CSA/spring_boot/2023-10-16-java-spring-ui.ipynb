{
 "cells": [
  {
   "cell_type": "raw",
   "metadata": {
    "vscode": {
     "languageId": "raw"
    }
   },
   "source": [
    "---\n",
    "layout: post \n",
    "title: Frontend UI\n",
    "description: Fetching data from the Spring Boot backend API \n",
    "permalink: /java/spring/ui/\n",
    "categories: [Java Spring]\n",
    "menu: nav/java_spring.html\n",
    "---"
   ]
  },
  {
   "cell_type": "markdown",
   "metadata": {},
   "source": [
    "### JavaScript Frontend UI\n",
    "\n",
    "> This database was setup to allow people to HaHa or Boohoo a collection of Computer Jokes.  The entirety has lot of limitation.  \n",
    "\n",
    "- People can vote more than once and in both categories.\n",
    "- There is no auto refresh if several are voting and updating as you are looking at your static page.\n",
    "- Perhaps Q and A style could hide punch line.\n",
    "- Perhaps we could accept new jokes, or have interface for adding them.\n",
    "\n",
    "> Amazingly, though ... the front-end code is in a completely different project.  The front end project GETs and PUTs using the back end APIs.  The key element that makes this different than other public APIs, like RapidAPI, is the \"reaction\" function.  This function updates the elementID of the like or jeer as soon as you impact the button.\n",
    "\n",
    "[Frontend JavaScript Code](https://github.com/nighthawkcoders/APCSA/blob/master/_posts/2022-07-10-PBL-jokes.md)\n",
    "\n",
    "```javascript\n",
    "// Reaction function to likes or jeers user actions\n",
    "  function reaction(type, put_url, elemID) {\n",
    "\n",
    "    // fetch the API\n",
    "    fetch(put_url, put_options)\n",
    "    // response is a RESTful \"promise\" on any successful fetch\n",
    "    .then(response => {\n",
    "      // check for response errors\n",
    "      if (response.status !== 200) {\n",
    "          error(\"PUT API response failure: \" + response.status)\n",
    "          return;  // api failure\n",
    "      }\n",
    "      // valid response will have JSON data\n",
    "      response.json().then(data => {\n",
    "          console.log(data);\n",
    "          // Likes or Jeers updated/incremented\n",
    "          if (type === HAHA) // like data element\n",
    "            document.getElementById(elemID).innerHTML = data.haha;  // fetched haha data assigned to haha Document Object Model (DOM)\n",
    "          else if (type === BOOHOO) // jeer data element\n",
    "            document.getElementById(elemID).innerHTML = data.boohoo;  // fetched boohoo data assigned to boohoo Document Object Model (DOM)\n",
    "          else\n",
    "            error(\"unknown type: \" + type);  // should never occur\n",
    "      })\n",
    "    })\n",
    "    // catch fetch errors (ie Nginx ACCESS to server blocked)\n",
    "    .catch(err => {\n",
    "      error(err + \" \" + put_url);\n",
    "    });\n",
    "    \n",
    "  }\n",
    "```\n",
    "\n"
   ]
  }
 ],
 "metadata": {
  "language_info": {
   "name": "python"
  }
 },
 "nbformat": 4,
 "nbformat_minor": 2
}
