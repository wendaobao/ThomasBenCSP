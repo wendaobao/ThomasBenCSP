{
 "cells": [
  {
   "cell_type": "raw",
   "metadata": {
    "vscode": {
     "languageId": "raw"
    }
   },
   "source": [
    "---\n",
    "layout: post\n",
    "toc: true\n",
    "title: 7.7 - Ethical Issues around Data Collection\n",
    "description: Ethical issues around data collection with ArrayLists\n",
    "authors: Aidan Lau, Saathvik Gampa, Sri Surapaneni, Tanav Kambhampati\n",
    "categories: [AP CSA]\n",
    "type: ccc\n",
    "permalink: /csa/unit7-p1/unit7-7\n",
    "menu: nav/CSA_Units/csa_unit7_p1.html\n",
    "---"
   ]
  },
  {
   "cell_type": "markdown",
   "metadata": {},
   "source": [
    "# 7.7: Ethical issues around Data Collection"
   ]
  },
  {
   "cell_type": "markdown",
   "metadata": {},
   "source": [
    "### Learning Objectives:\n",
    "- Explaining the risks of privacy from collecting and storing personal data on computer systems.\n",
    "\n",
    "### Essential Knowledge:\n",
    "- When using the computer, personal privacy is at risk. Programmers should attempt to safeguard personal privacy."
   ]
  },
  {
   "cell_type": "markdown",
   "metadata": {},
   "source": [
    "#### Privacy Protection:\n",
    "- A simple way to protect privacy is to delete personal user info after done using it.\n",
    "- Another way is to minimize the amount of data used by the program in order to protect privacy.\n",
    "- Anonymizing personal data via the object method *hashCode()* is another way."
   ]
  }
 ],
 "metadata": {
  "language_info": {
   "name": "python"
  }
 },
 "nbformat": 4,
 "nbformat_minor": 2
}
