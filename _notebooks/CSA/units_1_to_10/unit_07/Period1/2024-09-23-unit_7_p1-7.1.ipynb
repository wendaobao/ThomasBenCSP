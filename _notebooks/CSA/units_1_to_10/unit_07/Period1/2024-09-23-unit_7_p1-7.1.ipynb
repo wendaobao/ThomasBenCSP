{
 "cells": [
  {
   "cell_type": "raw",
   "metadata": {
    "vscode": {
     "languageId": "raw"
    }
   },
   "source": [
    "---\n",
    "layout: post\n",
    "toc: true\n",
    "title: 7.1 ArrayList Intro\n",
    "description: Introduction to ArrayLists \n",
    "authors: Aidan Lau, Saathvik Gampa, Sri Surapaneni, Tanav Kambhampati\n",
    "categories: [AP CSA]\n",
    "type: ccc\n",
    "permalink: /csa/unit7-p1/unit7-1\n",
    "menu: nav/CSA_Units/csa_unit7_p1.html\n",
    "---"
   ]
  },
  {
   "cell_type": "markdown",
   "metadata": {},
   "source": [
    "## 7.1: ArrayList Intro"
   ]
  },
  {
   "cell_type": "markdown",
   "metadata": {},
   "source": [
    "- ArrayLists are dynamic (size can grow and shrink unlike arrays which are static)\n",
    "- Instead of creating a different size array each time, we can use ArrayLists!\n",
    "- Ex: You and ur beautiful wife...\n",
    "![Screenshot 2024-09-18 at 8 05 02 PM](https://github.com/user-attachments/assets/480349f7-a97f-4c3d-a6f6-1868e095a2f4)\n",
    "\n",
    "\n"
   ]
  },
  {
   "cell_type": "markdown",
   "metadata": {},
   "source": [
    "In order to use the ArrayList class, it needs to be imported from the java util package. This can be done by writing import java.util.ArrayList; at the beginning of the code\n",
    "\n",
    "- To use Arraylist class, it needs to be imported from java.util package\n",
    "- At beginning of code using an Arraylist, type the command below!"
   ]
  },
  {
   "cell_type": "code",
   "execution_count": null,
   "metadata": {},
   "outputs": [],
   "source": [
    "import java.util.ArrayList;\n",
    "\n",
    "// your amazing code here!"
   ]
  },
  {
   "cell_type": "markdown",
   "metadata": {},
   "source": [
    "ArrayList objects are initialized the same way as most object classes. However, the element type (String, Integer, Boolean) must be specified in the <>. Look at the example below, where the element type is String in this case.\n",
    "\n",
    "- Arraylist objects are initialized like most object classes\n",
    "- The objects can't store primitive types directly\n",
    "- the element type must be initialized in <>"
   ]
  },
  {
   "cell_type": "code",
   "execution_count": null,
   "metadata": {},
   "outputs": [],
   "source": [
    "ArrayList<String> awesomeword = new ArrayList(); // example of initializing an arraylist of strings called \"awesomeword\""
   ]
  },
  {
   "cell_type": "markdown",
   "metadata": {},
   "source": [
    "# Popcorn Hack #1\n",
    "What's wrong with the code below?"
   ]
  },
  {
   "cell_type": "code",
   "execution_count": 5,
   "metadata": {},
   "outputs": [
    {
     "ename": "CompilationException",
     "evalue": "",
     "output_type": "error",
     "traceback": [
      "\u001b[1m\u001b[30m|   \u001b[1m\u001b[30mArrayList<\u001b[0m\u001b[1m\u001b[30m\u001b[41mInt\u001b[0m\u001b[1m\u001b[30m> coolnumbers = new ArrayList();\u001b[0m",
      "\u001b[1m\u001b[31mcannot find symbol\u001b[0m",
      "\u001b[1m\u001b[31m  symbol:   class Int\u001b[0m",
      "",
      "\u001b[1m\u001b[30m|   \u001b[1m\u001b[30mArrayList<Int> coolnumbers = \u001b[0m\u001b[1m\u001b[30m\u001b[41mnew ArrayList()\u001b[0m\u001b[1m\u001b[30m;\u001b[0m",
      "\u001b[1m\u001b[31munchecked conversion\u001b[0m",
      "\u001b[1m\u001b[31m  required: java.util.ArrayList<Int>\u001b[0m",
      "\u001b[1m\u001b[31m  found:    java.util.ArrayList\u001b[0m",
      ""
     ]
    }
   ],
   "source": [
    "import java.util.ArrayList;\n",
    "\n",
    "ArrayList<String> awesomeword = new ArrayList(); \n",
    "ArrayList<Int> coolnumbers = new ArrayList();\n",
    "ArrayList<Boolean> truefalse = new ArrayList();\n",
    "// comment answer when doing the homework"
   ]
  },
  {
   "cell_type": "markdown",
   "metadata": {},
   "source": [
    "\n",
    "<img width=\"442\" alt=\"Screenshot 2024-09-24 at 8 12 38 PM\" src=\"https://github.com/user-attachments/assets/f93e5910-ae60-46d9-89ab-3c55bacd4e77\">"
   ]
  },
  {
   "cell_type": "markdown",
   "metadata": {},
   "source": [
    "ArrayLists can be created without specifying a type, allowing them to hold any object type. However, its better to define the type because it allows the compiler to catch errors at compile time whcich makes the code more efficient and easier to debug. Example is below\n",
    "- Arraylists can be created without specifying a type (they can hold any)\n",
    "- Better to define the type as it makes code easier to debug and more efficient"
   ]
  },
  {
   "cell_type": "code",
   "execution_count": null,
   "metadata": {},
   "outputs": [],
   "source": [
    "ArrayList list = new ArrayList(); // no object type specified!"
   ]
  },
  {
   "cell_type": "markdown",
   "metadata": {},
   "source": [
    "#### Popcorn Hack #2\n",
    "\n",
    "Create 2 ArrayLists, one with an integer type called \"sritestgrades\" and other string type called \"srihobbies"
   ]
  },
  {
   "cell_type": "code",
   "execution_count": 16,
   "metadata": {},
   "outputs": [
    {
     "name": "stdout",
     "output_type": "stream",
     "text": [
      "Sri's Test Grades are: [45, 32, 1, 90, 74]\n",
      "Sri's Hobbies are: [watching netflix, sleeping, coding, annoying saathvik]\n"
     ]
    }
   ],
   "source": [
    "import java.util.ArrayList;\n",
    "\n",
    "        ArrayList<?> sritestgrades = new ArrayList<>(); // change the question marks\n",
    "        ArrayList<?> srishobbies = new ArrayList<>(); \n",
    "        \n",
    "        sritestgrades.add(45);\n",
    "        sritestgrades.add(32);\n",
    "        sritestgrades.add(1);\n",
    "        sritestgrades.add(90);\n",
    "        sritestgrades.add(74);\n",
    "        \n",
    "        srishobbies.add(\"watching netflix\");\n",
    "        srishobbies.add(\"sleeping\");\n",
    "        srishobbies.add(\"coding\");\n",
    "        srishobbies.add(\"annoying saathvik\");\n",
    "        \n",
    "        // Printing the values\n",
    "        System.out.println(\"Sri's Test Grades are: \" + sritestgrades);\n",
    "        System.out.println(\"Sri's Hobbies are: \" + srishobbies);\n"
   ]
  },
  {
   "cell_type": "markdown",
   "metadata": {},
   "source": [
    "<img width=\"641\" alt=\"Screenshot 2024-09-24 at 8 13 10 PM\" src=\"https://github.com/user-attachments/assets/7a255858-b1f2-4ad3-b270-ba9b26f5ed96\">"
   ]
  }
 ],
 "metadata": {
  "kernelspec": {
   "display_name": "java (IJava/j!)",
   "language": "java",
   "name": "jbang-ijava"
  },
  "language_info": {
   "codemirror_mode": "java",
   "file_extension": ".jshell",
   "mimetype": "text/x-java-source",
   "name": "java",
   "pygments_lexer": "java",
   "version": "17.0.11+7-LTS-207"
  }
 },
 "nbformat": 4,
 "nbformat_minor": 2
}
