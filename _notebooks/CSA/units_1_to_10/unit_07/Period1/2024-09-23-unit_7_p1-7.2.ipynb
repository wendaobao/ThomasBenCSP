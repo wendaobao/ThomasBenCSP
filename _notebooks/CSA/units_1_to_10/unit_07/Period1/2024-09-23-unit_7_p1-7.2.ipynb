{
 "cells": [
  {
   "cell_type": "raw",
   "metadata": {
    "vscode": {
     "languageId": "raw"
    }
   },
   "source": [
    "---\n",
    "layout: post\n",
    "toc: true\n",
    "title: 7.2 - ArrayList Methods\n",
    "description: ArrayList Methods\n",
    "authors: Aidan Lau, Saathvik Gampa, Sri Surapaneni, Tanav Kambhampati\n",
    "categories: [AP CSA]\n",
    "type: ccc\n",
    "permalink: /csa/unit7-p1/unit7-2\n",
    "menu: nav/CSA_Units/csa_unit7_p1.html\n",
    "---"
   ]
  },
  {
   "cell_type": "markdown",
   "metadata": {},
   "source": [
    "# 7.2: ArrayList Methods"
   ]
  },
  {
   "cell_type": "markdown",
   "metadata": {},
   "source": [
    "### Learning Objectives\n",
    "\n",
    "Students will be able to represent collections of related object reference data using `ArrayList` objects.\n",
    "\n",
    "### Essential Knowledge\n",
    "\n",
    "- Iteration statements provide a means to access all the elements stored within an `ArrayList`. This process is referred to as \"traversing the `ArrayList`.\"\n",
    "\n",
    "- The following `ArrayList` methods, including what they do and when they are used, are part of the Java Quick Reference:\n",
    "\n",
    "    * `int size()` - Returns the count of elements within the list.\n",
    "    * `boolean add(E obj)` - Appends the object `obj` to the end of the list and returns `true`.\n",
    "    * `void add(int index, E obj)` - Inserts `obj` at the specified `index`, shifting elements at and above that position to the right (incrementing their indices by 1) and increasing the list's size by 1.\n",
    "    * `E get(int index)` - Retrieves the element at the given `index` in the list.\n",
    "    * `E set(int index, E obj)` - Replaces the element at the specified `index` with `obj` and returns the previous element at that index.\n",
    "    * `E remove(int index)` - Deletes the element at the specified `index`, shifting all subsequent elements one index to the left, reducing the list's size by one, and returning the removed element.\n",
    "\n",
    "- Java allows the generic `ArrayList<E>`, where the generic type `E` specifies the type of element.\n",
    "\n",
    "- When `ArrayList<E>` is specified, the types of the reference parameters and return type when using the methods are type `E`.\n",
    "\n",
    "- `ArrayList<E>` is preferred over `ArrayList` because it allows the compiler to find errors that would otherwise be found at runtime."
   ]
  },
  {
   "cell_type": "markdown",
   "metadata": {},
   "source": [
    "### Size of the `ArrayList`\n",
    "\n",
    "* `int size();` : Returns the number of elements in the list.\n",
    "\n",
    "Consider the following code:"
   ]
  },
  {
   "cell_type": "code",
   "execution_count": 33,
   "metadata": {
    "vscode": {
     "languageId": "java"
    }
   },
   "outputs": [
    {
     "name": "stdout",
     "output_type": "stream",
     "text": [
      "0\n"
     ]
    }
   ],
   "source": [
    "ArrayList<Integer> a1 = new ArrayList<>();\n",
    "System.out.println(a1.size());"
   ]
  },
  {
   "cell_type": "markdown",
   "metadata": {},
   "source": [
    "### Adding Items to an `ArrayList`\n",
    "\n",
    "* `boolean add(E obj);` : Appends `obj` to the end of the list and returns true.\n",
    "* `void add(int index, E obj)` : Inserts `obj` at position `index`, as long as `index` is within the list's length. It moves each element in the list 1 index higher and adds 1 to the list's size.\n",
    "\n",
    "Consider the following code:"
   ]
  },
  {
   "cell_type": "code",
   "execution_count": 34,
   "metadata": {
    "vscode": {
     "languageId": "java"
    }
   },
   "outputs": [
    {
     "name": "stdout",
     "output_type": "stream",
     "text": [
      "[1.0, 4.0, 2.0, 3.0]\n"
     ]
    }
   ],
   "source": [
    "ArrayList<Double> a2 = new ArrayList<>();\n",
    "a2.add(1.0);\n",
    "a2.add(2.0);\n",
    "a2.add(3.0);\n",
    "a2.add(1, 4.0);\n",
    "System.out.println(a2);"
   ]
  },
  {
   "cell_type": "markdown",
   "metadata": {},
   "source": [
    "### Let's Look at an Example\n",
    "\n",
    "Consider the following code:"
   ]
  },
  {
   "cell_type": "code",
   "execution_count": 35,
   "metadata": {
    "vscode": {
     "languageId": "java"
    }
   },
   "outputs": [
    {
     "ename": "CompilationException",
     "evalue": "",
     "output_type": "error",
     "traceback": [
      "\u001b[1m\u001b[30m|   \u001b[1m\u001b[30mh.add(\u001b[0m\u001b[1m\u001b[30m\u001b[41m26.2\u001b[0m\u001b[1m\u001b[30m);\u001b[0m",
      "\u001b[1m\u001b[31mincompatible types: double cannot be converted to java.lang.String\u001b[0m",
      ""
     ]
    }
   ],
   "source": [
    "ArrayList<String> h = new ArrayList<>();\n",
    "\n",
    "h.add(\"Hello\");\n",
    "h.add(\"Hello\");\n",
    "h.add(\"HeLLO\");\n",
    "h.add(\"Hello\");\n",
    "h.add(1, \"Hola\");\n",
    "\n",
    "h.add(26.2);\n",
    "h.add(new String(\"Hello\"));\n",
    "h.add(false);"
   ]
  },
  {
   "cell_type": "markdown",
   "metadata": {},
   "source": [
    "Now, consider this code:"
   ]
  },
  {
   "cell_type": "code",
   "execution_count": 36,
   "metadata": {
    "vscode": {
     "languageId": "java"
    }
   },
   "outputs": [
    {
     "name": "stdout",
     "output_type": "stream",
     "text": [
      "[Hello, Hola, Hello, HeLLO, Hello, Hello]\n"
     ]
    }
   ],
   "source": [
    "ArrayList<String> g = new ArrayList<>();\n",
    "\n",
    "g.add(\"Hello\");\n",
    "g.add(\"Hello\");\n",
    "g.add(\"HeLLO\");\n",
    "g.add(\"Hello\");\n",
    "g.add(1, \"Hola\");\n",
    "\n",
    "g.add(new String(\"Hello\"));\n",
    "\n",
    "System.out.println(g);"
   ]
  },
  {
   "cell_type": "markdown",
   "metadata": {},
   "source": [
    "**Question:** Why does this code work?"
   ]
  },
  {
   "cell_type": "markdown",
   "metadata": {},
   "source": [
    "### Deleting Items from an `ArrayList`\n",
    "\n",
    "`E remove(int index)` : Removes the element at position `index`, and moves the elements at position `index + 1` and higher to the left. It also subtracts one from the list's size. The return value is the element formerly at position `index`."
   ]
  },
  {
   "cell_type": "code",
   "execution_count": 37,
   "metadata": {
    "vscode": {
     "languageId": "java"
    }
   },
   "outputs": [
    {
     "name": "stdout",
     "output_type": "stream",
     "text": [
      "Hello\n"
     ]
    }
   ],
   "source": [
    "// If you are confused of what list g is, look back at the previous code.\n",
    "g.remove(3);\n",
    "String former = g.remove(0);\n",
    "System.out.println(former);"
   ]
  },
  {
   "cell_type": "markdown",
   "metadata": {},
   "source": [
    "### Updating Items in an `ArrayList`\n",
    "\n",
    "To update variables or object properties in Java, simply assign new values using the = operator or update object fields through methods. Make sure the data types match and understand how scopes affect where updates can occur."
   ]
  },
  {
   "cell_type": "code",
   "execution_count": 38,
   "metadata": {
    "vscode": {
     "languageId": "java"
    }
   },
   "outputs": [
    {
     "name": "stdout",
     "output_type": "stream",
     "text": [
      "Hello\n"
     ]
    },
    {
     "name": "stdout",
     "output_type": "stream",
     "text": [
      "[Hola, xx, Hello, Hello]\n"
     ]
    }
   ],
   "source": [
    "String car = g.set(1, \"xx\");\n",
    "System.out.println(car);\n",
    "System.out.println(g);"
   ]
  },
  {
   "cell_type": "markdown",
   "metadata": {},
   "source": [
    "### Accessing Items in an `ArrayList`\n",
    "\n",
    "In Java, you can access items in an array by using the index of the element, with array indices starting from 0. For example, array[0] will access the first element, and array[2] will access the third element. You can use a loop, such as a for or while loop, to iterate through all the elements of the array."
   ]
  },
  {
   "cell_type": "code",
   "execution_count": 39,
   "metadata": {
    "vscode": {
     "languageId": "java"
    }
   },
   "outputs": [
    {
     "name": "stdout",
     "output_type": "stream",
     "text": [
      "Hello\n",
      "[Hola, xx, Hello, Hello]\n"
     ]
    }
   ],
   "source": [
    "String hello = g.get(3);\n",
    "System.out.println(hello);\n",
    "System.out.println(g);"
   ]
  },
  {
   "cell_type": "markdown",
   "metadata": {},
   "source": [
    "### Passing an `ArrayList` as a Method Parameter"
   ]
  },
  {
   "cell_type": "markdown",
   "metadata": {},
   "source": [
    "The only time that it is wise to use `ArrayList` instead of `ArrayList<E>` is when it is as a function parameter and it is only using `ArrayList<>.get(E)` or `ArrayList<>.size()`. Consider the following code:"
   ]
  },
  {
   "cell_type": "code",
   "execution_count": 40,
   "metadata": {
    "vscode": {
     "languageId": "java"
    }
   },
   "outputs": [
    {
     "name": "stdout",
     "output_type": "stream",
     "text": [
      "Array is empty\n"
     ]
    }
   ],
   "source": [
    "private void accessOnly(ArrayList arr) {\n",
    "    if (arr.size() > 0) {\n",
    "        System.out.println(arr.get(0)); // Change the index to the one you want to access\n",
    "    } else {\n",
    "        System.out.println(\"Array is empty\");\n",
    "    }\n",
    "}\n",
    "\n",
    "ArrayList<Integer> myList = new ArrayList<Integer>();\n",
    "accessOnly(myList);"
   ]
  },
  {
   "cell_type": "markdown",
   "metadata": {},
   "source": [
    "### Returning an `ArrayList` from a Method\n",
    "\n",
    "In order for you to return an `ArrayList`, the data type must be specified, and the return type must be the same as the return value. Consider the following code:"
   ]
  },
  {
   "cell_type": "code",
   "execution_count": 41,
   "metadata": {
    "vscode": {
     "languageId": "java"
    }
   },
   "outputs": [
    {
     "name": "stdout",
     "output_type": "stream",
     "text": [
      "[Hello]\n"
     ]
    }
   ],
   "source": [
    "private ArrayList<String> returnTheSame() {\n",
    "    ArrayList<String> arr = new ArrayList<String>(); // Initialize the ArrayList\n",
    "    arr.add(\"Hello\");\n",
    "    return arr;\n",
    "}\n",
    "\n",
    "ArrayList<String> result = returnTheSame();\n",
    "System.out.println(result);\n"
   ]
  },
  {
   "cell_type": "markdown",
   "metadata": {},
   "source": [
    "### Hacks\n",
    "\n",
    "- The learning objective is that \"Students will be able to represent collections of related object reference data using `ArrayList` objects.\" What does this mean to you?\n",
    "\n",
    "- Answer the following questions:\n",
    "\n",
    "    * Look back at *Size of the `ArrayList`*. What does the code output and why?\n",
    "    - 0 because there are 0 items in the array list\n",
    "    * Look back at *Adding items to an `ArrayList`*. What does the code output and why? What type of function is `void`, and what will be the return value?\n",
    "    - the add() method is a void method which doesnt return anything and simply adds stuff to the array\n",
    "    * Look back at Example 1. What two lines did we remove? Why?\n",
    "    - \n",
    "    * If an `ArrayList` is being used as a parameter, what are the only two methods I can use from it? What would happen if I tried to use any other methods?\n",
    "\n",
    "- Using the Hack Helper, write code that will:\n",
    "\n",
    "    * Add 2 items to the list.\n",
    "    * Remove an item from the list anywhere of the user's choice.\n",
    "    * Replace am item anywhere in the list of the user's choice.\n",
    "    * Get the first and last element of the list, no matter the length.\n",
    "    * Return the items added, removed, replaced, and the list's size, in one string."
   ]
  },
  {
   "cell_type": "markdown",
   "metadata": {},
   "source": [
    "### Hack Helper"
   ]
  },
  {
   "cell_type": "code",
   "execution_count": 42,
   "metadata": {
    "vscode": {
     "languageId": "java"
    }
   },
   "outputs": [
    {
     "ename": "CompilationException",
     "evalue": "",
     "output_type": "error",
     "traceback": [
      "\u001b[1m\u001b[30m|   \u001b[1m\u001b[30m            System.out.println(\u001b[0m\u001b[1m\u001b[30m\u001b[41m\u001b[0m\u001b[1m\u001b[30m\"No students​⬤\u001b[0m",
      "\u001b[1m\u001b[31munclosed string literal\u001b[0m",
      "",
      "\u001b[1m\u001b[30m|   \u001b[1m\u001b[30m            System.out.println(\"No students​⬤\u001b[0m\u001b[1m\u001b[30m\u001b[41m\u001b[0m\u001b[1m\u001b[30m\u001b[0m",
      "\u001b[1m\u001b[31mreached end of file while parsing\u001b[0m",
      ""
     ]
    }
   ],
   "source": [
    "public class ArrayListMethodsExample {\n",
    "    private ArrayList<Integer> manipulateList(/* You can put parameters here if you want to... */) {\n",
    "        ArrayList<Integer> arr = new ArrayList<Integer>();\n",
    "        arr.add(1);\n",
    "        return arr;\n",
    "    }\n",
    "\n",
    "    public static void main(String[] args) {\n",
    "        ArrayList<Integer> nums = new ArrayList<>();\n",
    "        ArrayListMethodsExample example = new ArrayListMethodsExample();\n",
    "        \n",
    "        ArrayList<Integer> output = example.manipulateList();\n",
    "        System.out.println(output);\n",
    "    }\n",
    "}"
   ]
  }
 ],
 "metadata": {
  "kernelspec": {
   "display_name": "java (IJava/j!)",
   "language": "java",
   "name": "jbang-ijava"
  },
  "language_info": {
   "codemirror_mode": "java",
   "file_extension": ".jshell",
   "mimetype": "text/x-java-source",
   "name": "Java",
   "pygments_lexer": "java",
   "version": "17.0.11+7-LTS-207"
  }
 },
 "nbformat": 4,
 "nbformat_minor": 2
}
