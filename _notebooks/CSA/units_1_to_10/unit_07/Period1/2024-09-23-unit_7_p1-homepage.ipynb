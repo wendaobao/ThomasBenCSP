{
 "cells": [
  {
   "cell_type": "raw",
   "metadata": {
    "vscode": {
     "languageId": "raw"
    }
   },
   "source": [
    "---\n",
    "layout: post\n",
    "toc: true\n",
    "title: Unit 7 ArrayLists P1 \n",
    "description: ArrayLists Home Page\n",
    "authors: Aidan Lau, Saathvik Gampa, Sri Surapaneni, Tanav Kambhampati\n",
    "categories: [AP CSA]\n",
    "courses: {'csa': {'week': 6}}\n",
    "type: ccc\n",
    "permalink: /csa/unit7-p1/unit7-homepage\n",
    "menu: nav/CSA_Units/csa_unit7_p1.html\n",
    "---"
   ]
  },
  {
   "cell_type": "markdown",
   "metadata": {},
   "source": [
    "## AP Computer Science A - Unit 6 Home Page\n",
    "\n",
    "### Main Idea \n",
    "> ** ArrayLists: ArrayLists are used to store data and algorithms can be used to access, traverse, and sort through this data.**\n",
    "\n",
    "### Why ArrayLists? \n",
    "> Because ArrayLists dont have a fixed size like Arrays and we can add and remove items from them, they are more verstaile and have more functions\n",
    "\n",
    "### AP Exam Details\n",
    "- 2.5-7.5% of the test\n",
    "- 1 to 2 mc questions\n",
    "- Might be on an FRQ(making ArrayLists and ArrayList algorithms)\n",
    "\n",
    "### Key Topics:\n",
    "Topic 6.1 - Array Creation and Access (Tarun)\n",
    "Topic 6.2 - Traversing Array (1D) (Srijan)\n",
    "Topic 6.3 Enhanced for loop for Arrays (Jonathan)\n",
    "Topic 6.4: Developing Algorithms Using Arrays (Ian)"
   ]
  }
 ],
 "metadata": {
  "language_info": {
   "name": "python"
  }
 },
 "nbformat": 4,
 "nbformat_minor": 2
}
