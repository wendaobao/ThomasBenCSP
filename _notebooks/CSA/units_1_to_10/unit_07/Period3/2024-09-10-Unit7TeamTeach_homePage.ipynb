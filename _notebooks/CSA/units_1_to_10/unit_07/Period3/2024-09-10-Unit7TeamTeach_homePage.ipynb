{
 "cells": [
  {
   "cell_type": "markdown",
   "metadata": {},
   "source": [
    "---\n",
    "layout: post\n",
    "toc: true\n",
    "title: Unit 7 ArrayList P3 \n",
    "description: A Unit of documents that overview Array Lists in Java\n",
    "authors: Drishya, Arnav, Tanuj, Jason\n",
    "categories: [AP CSA]\n",
    "courses: {'csa': {'week': 6}}\n",
    "type: ccc\n",
    "permalink: /csa/unit7-p3/home\n",
    "menu: nav/CSA_Units/csa_unit7_p3.html\n",
    "---"
   ]
  },
  {
   "cell_type": "markdown",
   "metadata": {},
   "source": [
    "**UNIT 7: ARRAYLISTS**\n",
    "\n",
    "- 7.1-7.2: Intro and Methods\n",
    "- 7.3: Traversing\n",
    "- 7.4-7.5: Searching & Algorithms\n",
    "- 7.6: Sorting\n",
    "- 7.7: Ethics\n",
    "- **Hacks**"
   ]
  }
 ],
 "metadata": {
  "language_info": {
   "name": "python"
  }
 },
 "nbformat": 4,
 "nbformat_minor": 2
}
