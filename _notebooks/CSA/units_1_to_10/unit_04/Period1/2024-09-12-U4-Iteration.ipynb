{
 "cells": [
  {
   "cell_type": "raw",
   "metadata": {},
   "source": [
    "---\n",
    "layout: post\n",
    "title: Unit 4 - Iteration P1 \n",
    "toc: True\n",
    "courses: {'csa': {'week': 6}}\n",
    "type: ccc\n",
    "permalink: /csa/unit4-p1/\n",
    "menu: nav/CSA_Units/csa_unit4_p1.html\n",
    "author: hanlun, saaras, arthur, miheer, eshaan, beijan\n",
    "---"
   ]
  },
  {
   "cell_type": "markdown",
   "metadata": {},
   "source": [
    "### Collegeboard Resources for loops/iteration\n",
    " - [AP Classroom](https://apclassroom.collegeboard.org/8/home?unit=4)\n",
    "\n",
    " ## AP Computer Science A - Unit 4 Home Page\n",
    "\n",
    "Welcome to Unit 4! In this unit, we will explore various concepts of **Iteration** in Java, focusing on while, for, for each, do while loops and string manipulation\n",
    "\n",
    "### Learning Goals:\n",
    "- Understand how to declare, initialize, loops\n",
    "- Learn how to iterate through strings\n",
    "- Practice writing algorithms that use iteration\n",
    "\n",
    "### Key Topics:\n",
    "Topic 4.1 - while Loops\n",
    "Topic 4.2 - for Loops\n",
    "Topic 4.3 - Developing Algorithms Using Strings\n",
    "Topic 4.4 - Nested Iteration\n",
    " "
   ]
  }
 ],
 "metadata": {
  "language_info": {
   "name": "python"
  }
 },
 "nbformat": 4,
 "nbformat_minor": 2
}
