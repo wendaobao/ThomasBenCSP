{
 "cells": [
  {
   "cell_type": "raw",
   "metadata": {},
   "source": [
    "---\n",
    "layout: post\n",
    "type: collab\n",
    "title: Unit 4.1 - While Loops\n",
    "description: Unit 4 Team Teach\n",
    "comments: true\n",
    "permalink: /csa/unit4-p1/unit4-1\n",
    "menu: nav/CSA_Units/csa_unit4_p1.html\n",
    "author: hanlun, saaras, arthur, miheer, eshaan, beijan\n",
    "---"
   ]
  },
  {
   "cell_type": "markdown",
   "metadata": {},
   "source": [
    "## 4.1 While Loops\n",
    "While loops run until the given condition is false. Format of loop below.\n"
   ]
  },
  {
   "cell_type": "code",
   "execution_count": 1,
   "metadata": {},
   "outputs": [
    {
     "name": "stdout",
     "output_type": "stream",
     "text": [
      "0\n",
      "1\n",
      "2\n",
      "3\n",
      "4\n"
     ]
    }
   ],
   "source": [
    "int index = 0; // iterating value\n",
    "while (index < 5) { // condition, if this is false, the loop terminates\n",
    "    System.out.println(index); // body code\n",
    "    index++; // iterates the iterating value\n",
    "}"
   ]
  },
  {
   "cell_type": "markdown",
   "metadata": {},
   "source": [
    "## Explanation\n",
    "- in the above while loop: \n",
    "    - index is the incrementing variable\n",
    "    - index < 5 is the condition (once index < 5 is false, this loop breaks)\n",
    "    - System.out.println(i); is the body code that runs every time the loop iterates\n",
    "    - index++; is incrementing the incrementing variable"
   ]
  },
  {
   "cell_type": "markdown",
   "metadata": {},
   "source": [
    "## Do While Loops:\n",
    "- This type of while loop runs the block inside the do{} statement once, then iterates through the loop\n",
    "- this ensures that the code runs at least once\n",
    "\n",
    "### Example of Do While loop below"
   ]
  },
  {
   "cell_type": "code",
   "execution_count": 2,
   "metadata": {},
   "outputs": [
    {
     "name": "stdout",
     "output_type": "stream",
     "text": [
      "0\n",
      "1\n",
      "2\n",
      "3\n",
      "4\n"
     ]
    }
   ],
   "source": [
    "int i = 0; // iterating value\n",
    "do { // this makes sure the code runs at least once\n",
    "    System.out.println(i); // body code\n",
    "    i++; // iterates the iterating value\n",
    "} while (i < 5); // condition, if this is false, loop terminates"
   ]
  },
  {
   "cell_type": "markdown",
   "metadata": {},
   "source": [
    "## Explanation:\n",
    "- in the above loop:\n",
    "    - code inside of the do{} statement runs at least once, then keeps on running as long as the condition, i<5, is true.\n",
    "    - similarly to the normal while loop, there is body code, and there is an incrementing variable "
   ]
  },
  {
   "cell_type": "markdown",
   "metadata": {},
   "source": [
    "## IMPORTANT:\n",
    "- While loops to not have to have an incrementing variable, for example, you can have a loop that iterates as long as there are items present in a list"
   ]
  },
  {
   "cell_type": "code",
   "execution_count": 9,
   "metadata": {},
   "outputs": [
    {
     "name": "stdout",
     "output_type": "stream",
     "text": [
      "[10, 20, 30, 40] before loop!!\n",
      "Element: 10\n",
      "Element: 20\n",
      "Element: 30\n",
      "Element: 40\n",
      "[] after loop!!\n"
     ]
    }
   ],
   "source": [
    "ArrayList<Integer> list = new ArrayList<>();\n",
    "list.add(10);\n",
    "list.add(20);\n",
    "list.add(30);\n",
    "list.add(40);\n",
    "\n",
    "System.out.println(list + \" before loop!!\");\n",
    "while (!list.isEmpty()) {\n",
    "    System.out.println(\"Element: \" + list.remove(0));\n",
    "}\n",
    "System.out.println(list + \" after loop!!\");"
   ]
  },
  {
   "cell_type": "markdown",
   "metadata": {},
   "source": [
    "### Fun While Loop Hack:\n",
    "- find and fix the missing increment in the while loop"
   ]
  },
  {
   "cell_type": "code",
   "execution_count": null,
   "metadata": {},
   "outputs": [],
   "source": [
    "int i = 0;\n",
    "while (i < 5) {\n",
    "    System.out.println(i);\n",
    "}"
   ]
  }
 ],
 "metadata": {
  "kernelspec": {
   "display_name": "Java",
   "language": "java",
   "name": "java"
  },
  "language_info": {
   "codemirror_mode": "java",
   "file_extension": ".jshell",
   "mimetype": "text/x-java-source",
   "name": "java",
   "pygments_lexer": "java",
   "version": "17.0.12+7-Ubuntu-1ubuntu222.04"
  }
 },
 "nbformat": 4,
 "nbformat_minor": 2
}
