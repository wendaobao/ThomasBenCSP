{
 "cells": [
  {
   "cell_type": "markdown",
   "metadata": {},
   "source": [
    "---\n",
    "layout: post\n",
    "type: collab\n",
    "title: Unit 4.3 - String Iteration\n",
    "description: Unit 4 Team Teach\n",
    "comments: true\n",
    "permalink: /csa/unit4-p1/unit4-3\n",
    "menu: nav/CSA_Units/csa_unit4_p1.html\n",
    "author: hanlun, saaras, arthur, miheer, eshaan, beijan\n",
    "---"
   ]
  },
  {
   "cell_type": "markdown",
   "metadata": {},
   "source": [
    "## 4.3 String Iteration\n",
    "Methods of iterating through and interacting with strings"
   ]
  },
  {
   "cell_type": "code",
   "execution_count": null,
   "metadata": {},
   "outputs": [],
   "source": [
    "String word = \"sunflower\";\n",
    "String sub = \"low\";\n",
    "boolean found = false;\n",
    "for (int i = 0; i < word.length(); i++) {\n",
    "    String poirtion = word.substring(i, i+sub.length());\n",
    "    if (portion.equals(sub)){\n",
    "        found = true;\n",
    "    }\n",
    "}"
   ]
  },
  {
   "cell_type": "markdown",
   "metadata": {},
   "source": [
    "### What is a substring?\n",
    "- a substring is a subset of the main string\n",
    "- the substring(a,b) method creates a substring with the characters of the original string with indices of a to b.\n",
    "- string.length() returns the length of the string\n",
    "- string1.equals(string2) determines if the two strings have the same characters"
   ]
  },
  {
   "cell_type": "markdown",
   "metadata": {},
   "source": [
    "### Fun Stubstring Hack:\n",
    "Create a program that scrables any word that you put in, by reversing the first and last letters, then reversing the center letters. (example: sold becomes dlos, computer becomes retupmoc)"
   ]
  },
  {
   "cell_type": "code",
   "execution_count": null,
   "metadata": {},
   "outputs": [],
   "source": []
  }
 ],
 "metadata": {
  "kernelspec": {
   "display_name": "Java",
   "language": "java",
   "name": "java"
  },
  "language_info": {
   "name": "java"
  }
 },
 "nbformat": 4,
 "nbformat_minor": 2
}
