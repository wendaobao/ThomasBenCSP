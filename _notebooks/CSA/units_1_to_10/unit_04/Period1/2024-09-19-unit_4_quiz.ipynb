{
 "cells": [
  {
   "cell_type": "markdown",
   "metadata": {},
   "source": [
    "---\n",
    "layout: post\n",
    "type: collab\n",
    "title: Unit 4 - Quiz\n",
    "description: Unit 4 Team Teach\n",
    "comments: true\n",
    "permalink: /csa/unit4-p1/unit4-quiz\n",
    "menu: nav/CSA_Units/csa_unit4_p1.html\n",
    "author: hanlun, saaras, arthur, miheer, eshaan, beijan\n",
    "---"
   ]
  },
  {
   "cell_type": "markdown",
   "metadata": {},
   "source": [
    "## Unit 4 - Iteration:\n",
    "- This assignement will be made of 3 multiple choice questions, and 2 coding hacks."
   ]
  },
  {
   "cell_type": "markdown",
   "metadata": {},
   "source": [
    "### Question 1:\n",
    "What does the following code print?\n",
    "A. 5 6 7 8 9\n",
    "B. 4 5 6 7 8 9 10 11 12\n",
    "C. 3 5 7 9 11\n",
    "D. 3 4 5 6 7 8 9 10 11 12\n",
    "Answer: D"
   ]
  },
  {
   "cell_type": "code",
   "execution_count": null,
   "metadata": {},
   "outputs": [],
   "source": [
    "for (int i = 3; i <= 12; i++)\n",
    "{\n",
    "   System.out.print(i + \" \");\n",
    "}"
   ]
  },
  {
   "cell_type": "markdown",
   "metadata": {},
   "source": [
    "### Question 2:\n",
    "How many times does the following method print a *?\n",
    "A. 9\n",
    "B. 7\n",
    "C. 6\n",
    "D. 10\n",
    "Answer: C"
   ]
  },
  {
   "cell_type": "code",
   "execution_count": null,
   "metadata": {},
   "outputs": [],
   "source": [
    "for (int i = 3; i < 9; i++)\n",
    "{\n",
    "   System.out.print(\"*\");\n",
    "}"
   ]
  },
  {
   "cell_type": "markdown",
   "metadata": {},
   "source": [
    "### Question 3:\n",
    "What does the following code print?\n",
    "A. 5 4 3 2 1\n",
    "B. -5 -4 -3 -2 -1\n",
    "C. -4 -3 -2 -1 0\n",
    "Answer: C"
   ]
  },
  {
   "cell_type": "code",
   "execution_count": null,
   "metadata": {},
   "outputs": [],
   "source": [
    "int x = -5;\n",
    "while (x < 0)\n",
    "{\n",
    "   x++;\n",
    "   System.out.print(x + \" \");\n",
    "}"
   ]
  },
  {
   "cell_type": "markdown",
   "metadata": {},
   "source": [
    "## Loops homework hack\n",
    "### Easy Hack\n",
    "- use a while loop to find the numbers from 1-50 that are divisible by 3 or 5, then store them into a list (make sure to print it out at the end)\n",
    "- use a for loop to do the same thing detailed above\n",
    "\n"
   ]
  },
  {
   "cell_type": "code",
   "execution_count": null,
   "metadata": {},
   "outputs": [],
   "source": []
  },
  {
   "cell_type": "markdown",
   "metadata": {},
   "source": [
    "### Harder Hack\n",
    "#### Palindromes are numbers that have the same value when reversed (ex: “123321” or “323”). Create a program that uses a while loop that outputs all palindromes in any given list. \n",
    "\n",
    "Sample Input: \n",
    "test_list = [5672, 235, 5537, 6032, 317, 8460, 1672, 8104, 7770, 4442, 913, 2508, 1116, 9969, 9091, 522, 8756, 9527, 7968, 1520, 4444, 515, 2882, 6556, 595]\n",
    "\n",
    "Sample Output:\n",
    "4444, 515, 2882, 6556, 595"
   ]
  },
  {
   "cell_type": "code",
   "execution_count": null,
   "metadata": {},
   "outputs": [],
   "source": []
  },
  {
   "cell_type": "markdown",
   "metadata": {},
   "source": [
    "## Coding Hack(For above 0.9):\n",
    "### Use a for loop to output a spiral matrix with size n\n",
    "For example:\n",
    "Sample Input: \n",
    "3\n",
    "\n",
    "Output: \n",
    "[[1, 2, 3], \n",
    "[8, 9, 4], \n",
    "[7, 6, 5]]\n"
   ]
  },
  {
   "cell_type": "code",
   "execution_count": null,
   "metadata": {},
   "outputs": [],
   "source": []
  }
 ],
 "metadata": {
  "kernelspec": {
   "display_name": "Java",
   "language": "java",
   "name": "java"
  },
  "language_info": {
   "codemirror_mode": "java",
   "file_extension": ".jshell",
   "mimetype": "text/x-java-source",
   "name": "java",
   "pygments_lexer": "java",
   "version": "17.0.12+7-Ubuntu-1ubuntu222.04"
  }
 },
 "nbformat": 4,
 "nbformat_minor": 2
}
