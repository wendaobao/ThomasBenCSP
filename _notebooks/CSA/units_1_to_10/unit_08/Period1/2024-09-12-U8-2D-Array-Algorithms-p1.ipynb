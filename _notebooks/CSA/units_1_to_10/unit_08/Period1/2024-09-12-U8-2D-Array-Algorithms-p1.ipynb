{
 "cells": [
  {
   "cell_type": "raw",
   "metadata": {
    "vscode": {
     "languageId": "raw"
    }
   },
   "source": [
    "---\n",
    "layout: post\n",
    "toc: true\n",
    "title: Unit 8 - 2D Arrays Algorithms & Hacks\n",
    "description: 2D Arrays Lesson\n",
    "authors: Vibha Ganji, Avanthika Daita\n",
    "categories: [AP CSA]\n",
    "type: ccc\n",
    "permalink: /unit8lesson-p1-algorithms\n",
    "menu: nav/CSA_Units/csa_unit8_p1.html\n",
    "---"
   ]
  },
  {
   "cell_type": "markdown",
   "metadata": {},
   "source": [
    "# Algorithms 2D Array Java"
   ]
  },
  {
   "cell_type": "markdown",
   "metadata": {},
   "source": [
    "Linear search is a simple and sequential searching algorithm. It is used to find whether a particular element is present in the array or not by traversing every element in the array. While searching in the 2D array is exactly the same but here all the cells need to be traversed In this way, any element is searched in a 2D array. \n",
    "\n",
    "Below is the implementation for linear search in 2D arrays"
   ]
  },
  {
   "cell_type": "code",
   "execution_count": 1,
   "metadata": {
    "vscode": {
     "languageId": "java"
    }
   },
   "outputs": [
    {
     "name": "stdout",
     "output_type": "stream",
     "text": [
      "Element found at index: [1, 2]\n"
     ]
    }
   ],
   "source": [
    "// Linear Search in 2D arrays\n",
    "import java.util.Arrays;\n",
    " \n",
    "public class GFG {\n",
    "    public static void main(String[] args)\n",
    "    {\n",
    "        int arr[][] = { { 3, 12, 9 },\n",
    "                        { 5, 2, 89 },\n",
    "                        { 90, 45, 22 } };\n",
    "        int target = 89;\n",
    "        int ans[] = linearSearch(arr, target);\n",
    "        System.out.println(\"Element found at index: \"\n",
    "                           + Arrays.toString(ans));\n",
    "    }\n",
    " \n",
    "    static int[] linearSearch(int[][] arr, int target)\n",
    "    {\n",
    "        for (int i = 0; i < arr.length; i++) {\n",
    "            for (int j = 0; j < arr[i].length; j++) {\n",
    "                if (arr[i][j] == target) {\n",
    "                    return new int[] { i, j };\n",
    "                }\n",
    "            }\n",
    "        }\n",
    "        return new int[] { -1, -1 };\n",
    "    }\n",
    "}\n",
    "GFG.main(null);"
   ]
  },
  {
   "cell_type": "markdown",
   "metadata": {},
   "source": [
    "Summary:\n",
    "Linear Search involves iterating through all elements in the matrix.\n",
    "Binary Search is applicable when the matrix is sorted.\n",
    "Binary Search treats the 2D matrix as a 1D array by converting the indices.\n",
    "These searching algorithms are fundamental and widely used. Practice applying them to different scenarios to solidify your understanding. Additionally, consider exploring more advanced searching techniques for 2D arrays as you become more proficient."
   ]
  },
  {
   "cell_type": "code",
   "execution_count": 2,
   "metadata": {
    "vscode": {
     "languageId": "java"
    }
   },
   "outputs": [],
   "source": [
    "public class Main {\n",
    "    public static int[] binarySearch(int[][] matrix, int target) {\n",
    "        int rows = matrix.length;\n",
    "        int cols = matrix[0].length;\n",
    "        int left = 0;\n",
    "        int right = rows * cols - 1;\n",
    "\n",
    "        while (left <= right) {\n",
    "            int mid = left + (right - left) / 2;\n",
    "            int midValue = matrix[mid / cols][mid % cols];\n",
    "\n",
    "            if (midValue == target) {\n",
    "                return new int[] {mid / cols, mid % cols};\n",
    "            }\n",
    "\n",
    "            if (midValue < target) {\n",
    "                left = mid + 1;\n",
    "            } else {\n",
    "                right = mid - 1;\n",
    "            }\n",
    "        }\n",
    "\n",
    "        return new int[] {-1, -1}; // Target not found\n",
    "    }\n",
    "}"
   ]
  },
  {
   "cell_type": "markdown",
   "metadata": {},
   "source": [
    "### Binary Search in a 2D Array: \n",
    "\n",
    "Binary search is an efficient method of searching in an array. Binary search works on a sorted array. At each iteration the search space is divided in half, this is the reason why binary search is more efficient than linear search"
   ]
  },
  {
   "cell_type": "code",
   "execution_count": 3,
   "metadata": {
    "vscode": {
     "languageId": "java"
    }
   },
   "outputs": [
    {
     "name": "stdout",
     "output_type": "stream",
     "text": [
      "Element found at index: [2, 3]\n"
     ]
    }
   ],
   "source": [
    "// Binary Search on sorted 2D array\n",
    "import java.util.Arrays;\n",
    " \n",
    "class GFG {\n",
    " \n",
    "    static int[] findAns(int[][] arr, int target)\n",
    "    {\n",
    "        int row = 0;\n",
    "        int col = arr[row].length - 1;\n",
    "        while (row < arr.length && col >= 0) {\n",
    "            if (arr[row][col] == target) {\n",
    "                return new int[] { row, col };\n",
    "            }\n",
    " \n",
    "            // Target lies in further row\n",
    "            if (arr[row][col] < target) {\n",
    "                row++;\n",
    "            }\n",
    "            // Target lies in previous column\n",
    "            else {\n",
    "                col--;\n",
    "            }\n",
    "        }\n",
    "        return new int[] { -1, -1 };\n",
    "    }\n",
    " \n",
    "    // Driver Code\n",
    "    public static void main(String[] args)\n",
    "    {\n",
    " \n",
    "        // Binary search in sorted matrix\n",
    "        int arr[][] = { { 1, 2, 3, 4 },\n",
    "                        { 5, 6, 7, 8 },\n",
    "                        { 9, 10, 11, 12 } };\n",
    "        int[] ans = findAns(arr, 12);\n",
    "        System.out.println(\"Element found at index: \"\n",
    "                           + Arrays.toString(ans));\n",
    "    }\n",
    "}\n",
    "GFG.main(null);"
   ]
  },
  {
   "cell_type": "markdown",
   "metadata": {},
   "source": [
    "## Popcorn Hack - EXTRA!\n",
    "Create a program that implements binary search on 2D Arrays."
   ]
  },
  {
   "cell_type": "code",
   "execution_count": 4,
   "metadata": {
    "vscode": {
     "languageId": "java"
    }
   },
   "outputs": [
    {
     "name": "stdout",
     "output_type": "stream",
     "text": [
      "19 6 6 \n",
      "2 19 6 \n",
      "5 1 14 \n",
      "\n",
      "The number 9 was not found in the 2D Array\n"
     ]
    }
   ],
   "source": [
    "import java.util.Random;  \n",
    "import java.util.Arrays;  \n",
    "\n",
    "public class BinarySearch {\n",
    "    public static void main(String[] args) {\n",
    "        int[][] array = new int [3][3];\n",
    "        Random rand = new Random();\n",
    "\n",
    "        for (int i = 0; i < array.length; i++) {\n",
    "            for (int j = 0; j < array[i].length; j++) {\n",
    "                array[i][j] = rand.nextInt(20+1);\n",
    "                System.out.print(array[i][j] + \" \");\n",
    "            }\n",
    "            System.out.println();\n",
    "        }\n",
    "        System.out.println();\n",
    "        int target = rand.nextInt(20+1);\n",
    "        int[] answer = binarySearchAlgorithm(array, target);\n",
    "\n",
    "        if (Arrays.equals(answer, new int[] {-1, -1})) {\n",
    "            System.out.println(\"The number \" + target + \" was not found in the 2D Array\");\n",
    "        } else {\n",
    "            System.out.println(\"The number \" + target + \" was found at index \" + Arrays.toString(answer));\n",
    "        }\n",
    "    }\n",
    "    public static int[] binarySearchAlgorithm(int[][] arr, int target) {\n",
    "        int rows = arr.length;\n",
    "        int columns = arr[0].length;\n",
    "        int left = 0;\n",
    "        int right = rows * columns - 1;\n",
    "        if(rows == 0) {\n",
    "            return new int[] {-1, -1};\n",
    "        }\n",
    "\n",
    "        while(left <= right) {\n",
    "            int mid = left + (right - left) / 2;\n",
    "            int midvalue = arr[mid / columns][mid % columns];\n",
    "\n",
    "            if (midvalue == target) {\n",
    "                return new int[] {mid / columns, mid % columns};\n",
    "            } else if (midvalue < target) {\n",
    "                left = mid + 1;\n",
    "            } else {\n",
    "                right = mid - 1;\n",
    "            }\n",
    "        }\n",
    "        return new int[] {-1, -1};\n",
    "    }   \n",
    "}\n",
    "BinarySearch.main(null);"
   ]
  },
  {
   "cell_type": "markdown",
   "metadata": {
    "vscode": {
     "languageId": "java"
    }
   },
   "source": [
    "## Mathematical Analysis of a 2D Array\n",
    "\n",
    "There are 3 types of standard algorithms that can be applied upon 2D arrays that are commonly tested by Collegeboard:\n",
    "\n",
    "1. **Mathematical Analysis**: Algorithms that involve performing mathematical operations or calculations on 2D arrays, such as finding sums, averages, or other statistical measures. Examples include calculating the sum of all elements in a matrix or finding the determinant of a matrix.\n",
    "\n",
    "2. **Analyzing Element Properties**: Algorithms that focus on examining and manipulating the properties of individual elements within a 2D array. This might involve checking for specific conditions, such as how many elements are prime, identifying the number of even/odd numbers, or surveying for any other properties.\n",
    "\n",
    "3. **Reordering Elements**: Algorithms that involve changing the order of elements within a 2D array based on certain criteria. This could include sorting rows or columns, rotating the matrix, or rearranging elements to achieve a desired configuration. Examples include sorting the rows of a matrix in ascending order or rotating the matrix 90 degrees clockwise.\n"
   ]
  },
  {
   "cell_type": "markdown",
   "metadata": {},
   "source": [
    "# Mathematical Analysis"
   ]
  },
  {
   "cell_type": "code",
   "execution_count": null,
   "metadata": {
    "vscode": {
     "languageId": "java"
    }
   },
   "outputs": [],
   "source": [
    "/// Define the class named MatrixSum\n",
    "public class MatrixSum {\n",
    "    // Entry point of the program\n",
    "    public static void main(String[] args) {\n",
    "        // Initialize a 2D array (matrix) with predefined values\n",
    "        // The matrix here is a 3x3 array with integers from 1 to 9\n",
    "        int[][] matrix = {\n",
    "            {1, 2, 3},  // First row of the matrix\n",
    "            {4, 5, 6},  // Second row of the matrix\n",
    "            {7, 8, 9}   // Third row of the matrix\n",
    "        };\n",
    "        \n",
    "        // Call the calculateSum method with the matrix as an argument\n",
    "        // This method will return the sum of all elements in the matrix\n",
    "        int sum = calculateSum(matrix);\n",
    "        \n",
    "        // Print the sum of all elements in the matrix to the console\n",
    "        // The output will be: \"Sum of all elements: 45\"\n",
    "        System.out.println(\"Sum of all elements: \" + sum);\n",
    "\n",
    "        // Call the test method to execute the tests\n",
    "        testMatrixSum();\n",
    "    }\n",
    "\n",
    "    // Method to calculate the sum of all elements in a 2D matrix\n",
    "    // This method takes a 2D integer array (matrix) as input and returns an integer (the sum)\n",
    "    public static int calculateSum(int[][] matrix) {\n",
    "        // Initialize a variable to hold the sum of the matrix elements\n",
    "        int sum = 0;\n",
    "        \n",
    "        // Iterate over each row in the matrix\n",
    "        // 'row' represents each 1D array (row) in the 2D array (matrix)\n",
    "        for (int[] row : matrix) {\n",
    "            // Iterate over each element in the current row\n",
    "            // 'element' represents each integer value in the row\n",
    "            for (int element : row) {\n",
    "                // Add the current element to the sum\n",
    "                sum += element;\n",
    "            }\n",
    "        }\n",
    "        \n",
    "        // Return the final sum after all elements have been added\n",
    "        return sum;\n",
    "    }\n",
    "\n",
    "    // Test method to execute the calculations and print results\n",
    "    public static void testMatrixSum() {\n",
    "        // Test 1: Matrix with all positive integers\n",
    "        int[][] matrix1 = {\n",
    "            {1, 2, 3},\n",
    "            {4, 5, 6},\n",
    "            {7, 8, 9}\n",
    "        };\n",
    "        System.out.println(\"Sum of all elements in matrix 1: \" + calculateSum(matrix1));\n",
    "    }\n",
    "}\n",
    "MatrixSum.testMatrixSum();\n"
   ]
  },
  {
   "cell_type": "markdown",
   "metadata": {},
   "source": [
    "# Analysis of Properties of a 2D array"
   ]
  },
  {
   "cell_type": "code",
   "execution_count": null,
   "metadata": {
    "vscode": {
     "languageId": "java"
    }
   },
   "outputs": [],
   "source": [
    "public class PrimeNumberCounter {\n",
    "\n",
    "    /**\n",
    "     * Checks if a number is prime.\n",
    "     * \n",
    "     * @param num The number to check.\n",
    "     * @return true if the number is prime, false otherwise.\n",
    "     */\n",
    "    public static boolean isPrime(int num) {\n",
    "        // Numbers less than or equal to 1 are not prime numbers\n",
    "        if (num <= 1) return false;\n",
    "        \n",
    "        // 2 and 3 are prime numbers\n",
    "        if (num <= 3) return true;\n",
    "        \n",
    "        // Eliminate even numbers greater than 2 and multiples of 3\n",
    "        if (num % 2 == 0 || num % 3 == 0) return false;\n",
    "        \n",
    "        // Check for factors from 5 up to the square root of num\n",
    "        // Increment by 6 to check numbers of the form 6k ± 1\n",
    "        for (int i = 5; i * i <= num; i += 6) {\n",
    "            // Check divisibility by i and i + 2\n",
    "            if (num % i == 0 || num % (i + 2) == 0) return false;\n",
    "        }\n",
    "        \n",
    "        // If no factors were found, num is prime\n",
    "        return true;\n",
    "    }\n",
    "\n",
    "    /**\n",
    "     * Counts the number of prime numbers in a 2D array.\n",
    "     * \n",
    "     * @param array The 2D array of integers to check.\n",
    "     * @return The count of prime numbers in the array.\n",
    "     */\n",
    "    public static int countPrimes(int[][] array) {\n",
    "        int primeCount = 0; // Initialize count of prime numbers\n",
    "\n",
    "        // Iterate over each row in the 2D array\n",
    "        for (int[] row : array) {\n",
    "            // Iterate over each element in the row\n",
    "            for (int num : row) {\n",
    "                // Check if the current number is prime\n",
    "                if (isPrime(num)) {\n",
    "                    primeCount++; // Increment count if prime\n",
    "                }\n",
    "            }\n",
    "        }\n",
    "\n",
    "        // Return the total count of prime numbers\n",
    "        return primeCount;\n",
    "    }\n",
    "}\n",
    "\n",
    "// Test the PrimeNumberCounter class\n",
    "public class TestPrimeNumberCounter {\n",
    "    public static void main(String[] args) {\n",
    "        // Define a 2D array of integers for testing\n",
    "        int[][] testArray = {\n",
    "            {2, 4, 7, 8},\n",
    "            {11, 13, 17, 19},\n",
    "            {23, 24, 25, 29},\n",
    "            {31, 32, 37, 41}\n",
    "        };\n",
    "\n",
    "        // Count the number of prime numbers in the test array\n",
    "        int primeCount = PrimeNumberCounter.countPrimes(testArray);\n",
    "        // Print the result\n",
    "        System.out.println(\"Number of prime numbers: \" + primeCount);\n",
    "    }\n",
    "}\n",
    "TestPrimeNumberCounter.main(null);\n"
   ]
  },
  {
   "cell_type": "markdown",
   "metadata": {},
   "source": [
    "# Reordering Elements"
   ]
  },
  {
   "cell_type": "code",
   "execution_count": null,
   "metadata": {
    "vscode": {
     "languageId": "java"
    }
   },
   "outputs": [],
   "source": [
    "public class MatrixRotation {\n",
    "    public static void main(String[] args) {\n",
    "        // Initialize a 3x3 matrix\n",
    "        int[][] matrix = {\n",
    "            {1, 2, 3},\n",
    "            {4, 5, 6},\n",
    "            {7, 8, 9}\n",
    "        };\n",
    "        \n",
    "        // Rotate the matrix 90 degrees clockwise\n",
    "        int[][] rotated = rotateMatrix90Degrees(matrix);\n",
    "        \n",
    "        // Print the rotated matrix\n",
    "        printMatrix(rotated);\n",
    "    }\n",
    "\n",
    "    /**\n",
    "     * Rotates the given square matrix 90 degrees clockwise.\n",
    "     * \n",
    "     * @param matrix The matrix to be rotated\n",
    "     * @return The rotated matrix\n",
    "     */\n",
    "    public static int[][] rotateMatrix90Degrees(int[][] matrix) {\n",
    "        int n = matrix.length;  // Get the size of the matrix\n",
    "        int[][] rotated = new int[n][n];  // Initialize a new matrix for the rotated result\n",
    "        \n",
    "        // Perform the rotation\n",
    "        for (int i = 0; i < n; i++) {\n",
    "            for (int j = 0; j < n; j++) {\n",
    "                // Map the element from the original matrix to the rotated matrix\n",
    "                rotated[j][n - 1 - i] = matrix[i][j];\n",
    "            }\n",
    "        }\n",
    "        return rotated;  // Return the rotated matrix\n",
    "    }\n",
    "    \n",
    "    /**\n",
    "     * Prints the given matrix to the console.\n",
    "     * \n",
    "     * @param matrix The matrix to be printed\n",
    "     */\n",
    "    public static void printMatrix(int[][] matrix) {\n",
    "        // Loop through each row of the matrix\n",
    "        for (int[] row : matrix) {\n",
    "            // Loop through each element in the row\n",
    "            for (int element : row) {\n",
    "                // Print the element followed by a space\n",
    "                System.out.print(element + \" \");\n",
    "            }\n",
    "            // Print a newline after each row\n",
    "            System.out.println();\n",
    "        }\n",
    "    }\n",
    "}\n",
    "MatrixRotation.main(null);\n"
   ]
  },
  {
   "cell_type": "markdown",
   "metadata": {},
   "source": [
    "## Popcorn Hack\n",
    "Write a program in Java that allows you to find the number of elements in an array that are less than a certain input k.\n"
   ]
  },
  {
   "cell_type": "markdown",
   "metadata": {},
   "source": [
    "## Alternate Resources \n",
    "\n",
    "##### Past CSA FRQs on Algorithms Applied to 2D Arrays\n",
    "\n",
    "1. **[2014 FRQ](https://secure-media.collegeboard.org/digitalServices/pdf/ap/ap14_frq_computer_science_a.pdf)** - Problem 3: This problem involves working with a 2D array containing names and the number of absences of students. The 2D array has to be traversed and searched for all elements that satisfy a certain property.\n",
    "\n",
    "2. **[2015 FRQ](https://secure-media.collegeboard.org/digitalServices/pdf/ap/ap15_frq_computer_science_a.pdf)** - Problem 1: This problem requires basic summation of entries in the 2D array and proceeds to require a more mathematically advanced algorithm in part (c).\n",
    "\n",
    "3. **[2017 FRQ](https://apcentral.collegeboard.org/media/pdf/ap-computer-science-a-frq-2017.pdf)** - Problem 4: This FRQ begins with a traversal of a 2D array to find the position of a certain integer and then proceeds to a problem of finding the number of possible subarrays within that grid.\n"
   ]
  },
  {
   "cell_type": "markdown",
   "metadata": {},
   "source": [
    "# Homework Hack\n",
    "\n",
    "## CB 2021 FRQ Question 4a\n",
    "<a href = \"https://apcentral.collegeboard.org/media/pdf/ap21-frq-computer-science-a.pdf\">Link</a>\n",
    "\n",
    "<img src = \"{{site.baseurl}}/images/u8-p1-assets/qp1.png\">\n",
    "\n",
    "\n",
    "\n",
    "<img src = \"{{site.baseurl}}/images/u8-p1-assets/qp2.png\">\n",
    "\n"
   ]
  }
 ],
 "metadata": {
  "kernelspec": {
   "display_name": "Java",
   "language": "java",
   "name": "java"
  },
  "language_info": {
   "codemirror_mode": "java",
   "file_extension": ".jshell",
   "mimetype": "text/x-java-source",
   "name": "Java",
   "pygments_lexer": "java",
   "version": "17.0.12+7-Ubuntu-1ubuntu222.04"
  },
  "orig_nbformat": 4
 },
 "nbformat": 4,
 "nbformat_minor": 2
}
