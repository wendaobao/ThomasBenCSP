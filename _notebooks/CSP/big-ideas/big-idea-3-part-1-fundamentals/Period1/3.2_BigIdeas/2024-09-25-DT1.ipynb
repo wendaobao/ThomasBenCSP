{
 "cells": [
  {
   "cell_type": "markdown",
   "metadata": {},
   "source": [
    "---\n",
    "layout: post\n",
    "toc: true\n",
    "title: Data Types 1 -  Integers, Floating-Point Numbers, and Strings\n",
    "authors: Sanya Kapoor\n",
    "type: ccc\n",
    "permalink: /csp/big-idea/DT1\n",
    "menu: nav/csp_units/csp_bigIdea3_3.2_p1.html\n",
    "---"
   ]
  },
  {
   "cell_type": "markdown",
   "metadata": {},
   "source": [
    "# What is a Data Type?\n",
    "A data type defines the kind of value a variable can hold and what operations can be performed on it. \n",
    "<br>\n",
    "<br>"
   ]
  },
  {
   "cell_type": "markdown",
   "metadata": {},
   "source": [
    "## Integers\n",
    "Integers are whole numbers without decimal points. They can be positive, negative, or zero."
   ]
  },
  {
   "cell_type": "code",
   "execution_count": null,
   "metadata": {
    "vscode": {
     "languageId": "javascript"
    }
   },
   "outputs": [],
   "source": [
    "// Declare an integer In javascript\n",
    "let age = 25;\n",
    "console.log(\"Age: \" + age);  // Output: Age: 25"
   ]
  },
  {
   "cell_type": "code",
   "execution_count": null,
   "metadata": {},
   "outputs": [],
   "source": [
    "# Declare an integer in Python\n",
    "age = 25\n",
    "print(\"Age:\", age)  # Output: Age: 25"
   ]
  },
  {
   "cell_type": "markdown",
   "metadata": {
    "vscode": {
     "languageId": "javascript"
    }
   },
   "source": [
    "## Floating-Point Numbers\n",
    "Floating-point numbers, or \"floats,\" represent real numbers that contain a fractional part, expressed with decimals."
   ]
  },
  {
   "cell_type": "code",
   "execution_count": null,
   "metadata": {
    "vscode": {
     "languageId": "javascript"
    }
   },
   "outputs": [],
   "source": [
    "// Declare a floating-point number in Javascript\n",
    "let price = 19.99;\n",
    "console.log(\"Price: $\" + price);  // Output: Price: $19.99"
   ]
  },
  {
   "cell_type": "code",
   "execution_count": null,
   "metadata": {},
   "outputs": [],
   "source": [
    "# Declare a floating-point number in Python\n",
    "price = 19.99\n",
    "print(\"Price: $\", price)  # Output: Price: $ 19.99"
   ]
  },
  {
   "cell_type": "markdown",
   "metadata": {},
   "source": [
    "## Strings\n",
    "Strings are sequences of characters (letters, numbers, symbols) enclosed in quotes. They are used to represent text"
   ]
  },
  {
   "cell_type": "code",
   "execution_count": null,
   "metadata": {
    "vscode": {
     "languageId": "javascript"
    }
   },
   "outputs": [],
   "source": [
    "// Declare a string in Javascript\n",
    "let greeting = \"Hello, World!\";\n",
    "console.log(greeting);  // Output: Hello, World!"
   ]
  },
  {
   "cell_type": "code",
   "execution_count": null,
   "metadata": {},
   "outputs": [],
   "source": [
    "# Declare a string\n",
    "greeting = \"Hello, World!\"\n",
    "print(greeting)  # Output: Hello, World!"
   ]
  }
 ],
 "metadata": {
  "language_info": {
   "name": "python"
  }
 },
 "nbformat": 4,
 "nbformat_minor": 2
}
