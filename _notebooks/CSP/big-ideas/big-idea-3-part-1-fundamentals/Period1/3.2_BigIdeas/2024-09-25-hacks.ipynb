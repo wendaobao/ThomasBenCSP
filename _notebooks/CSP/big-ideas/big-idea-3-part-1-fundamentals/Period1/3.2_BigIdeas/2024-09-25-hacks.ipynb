{
 "cells": [
  {
   "cell_type": "markdown",
   "metadata": {},
   "source": [
    "---\n",
    "layout: post\n",
    "toc: true\n",
    "title: Hacks\n",
    "authors: Soni Dhenuva, Katherine Chen, Aditi Bandaru\n",
    "type: ccc\n",
    "permalink: /csp/big-idea/hacks\n",
    "menu: nav/csp_units/csp_bigIdea3_3.2_p1.html\n",
    "---"
   ]
  },
  {
   "cell_type": "markdown",
   "metadata": {},
   "source": [
    "## Popcorn Hacks"
   ]
  },
  {
   "cell_type": "markdown",
   "metadata": {},
   "source": [
    "<br>\n",
    "\n",
    "### Hack #1\n",
    "Create a list of data that could work with your GitHub Pages Blog Topic. For example, if your blog was about movies from different genres, make a list of movies for every genre. \n",
    "<br>\n",
    "<br>"
   ]
  },
  {
   "cell_type": "code",
   "execution_count": null,
   "metadata": {},
   "outputs": [],
   "source": [
    "# Define a dictionary with tech gadgets categorized by type\n",
    "tech_gadgets = {\n",
    "    \"Smartphones\": [\"iPhone 15\", \"Google Pixel 8\", \"Samsung Galaxy S23\"],\n",
    "    \"Laptops\": [\"MacBook Air\", \"Dell XPS 13\", \"Microsoft Surface Laptop 5\"],\n",
    "    \"Wearables\": [\"Apple Watch Series 9\", \"Fitbit Charge 5\", \"Garmin Fenix 7\"],\n",
    "    \"Headphones\": [\"Sony WH-1000XM5\", \"Bose QuietComfort 45\", \"AirPods Pro 2\"]\n",
    "}\n",
    "\n",
    "# Function to print the list of gadgets by category\n",
    "def print_gadgets(gadgets):\n",
    "    for category, items in gadgets.items():\n",
    "        print(f\"\\n{category}:\")\n",
    "        for item in items:\n",
    "            print(f\" - {item}\")\n",
    "\n",
    "# Call the function to display gadgets\n",
    "print_gadgets(tech_gadgets)\n"
   ]
  },
  {
   "cell_type": "markdown",
   "metadata": {},
   "source": [
    "<br>\n",
    "\n",
    "### Hack #2\n",
    "Try creating a dictionary for your github homepage that contains what was within each sprint.\n",
    "For example, in Sprint 1, we had frontend development, github pages playgroud, and javascript playground. \n",
    "<br>\n",
    "<br>"
   ]
  },
  {
   "cell_type": "code",
   "execution_count": null,
   "metadata": {},
   "outputs": [],
   "source": [
    "sprints = {\n",
    "    'Sprint1': ['Frontend Development', 'Github Pages Playground', 'Javascript Playground'],\n",
    "    'Sprint2': ['Big Ideas 3.2']\n",
    "}\n",
    "\n",
    "print(sprints['Sprint1'])\n",
    "if \"Frontend Development\" in sprints['Sprint1']:\n",
    "    print(True) \n",
    "else:\n",
    "    print(False)\n",
    "\n",
    "# Output:\n",
    "# ['Frontend Development', 'Github Pages Playground', 'Javascript Playground']\n",
    "# True"
   ]
  },
  {
   "cell_type": "markdown",
   "metadata": {},
   "source": [
    "<br>\n",
    "\n",
    "### Hack #3\n",
    "- Try to create a mix of list and dictionaries to represent a real world collection of data\n",
    "- The system i created is a Library System\n",
    "<br>\n",
    "<br>"
   ]
  },
  {
   "cell_type": "code",
   "execution_count": null,
   "metadata": {},
   "outputs": [],
   "source": [
    "# List of dictionaries representing books in a library\n",
    "library = [\n",
    "    {\n",
    "        \"title\": \"The Six of Crow\",\n",
    "        \"author\": \"Leigh Bardugo\",\n",
    "        \"genre\": \"Fantasy\",\n",
    "        \"copies_available\": 2,\n",
    "        \"borrowers\": [\n",
    "            {\"name\": \"Katherine Chen\", \"borrow_date\": \"2024-09-10\"},\n",
    "            {\"name\": \"Aditi Bandaru\", \"borrow_date\": \"2024-09-15\"}\n",
    "        ]\n",
    "    },\n",
    "    {\n",
    "        \"title\": \"A Game of Thrones\",\n",
    "        \"author\": \"George R.R. Martin\",\n",
    "        \"genre\": \"Action\",\n",
    "        \"copies_available\": 1,\n",
    "        \"borrowers\": [\n",
    "            {\"name\": \"Soni Dhenuva\", \"borrow_date\": \"2024-09-08\"}\n",
    "        ]\n",
    "    },\n",
    "    {\n",
    "        \"title\": \"Percy Jackson : The Last Olympian\",\n",
    "        \"author\": \"Rick Riordan\",\n",
    "        \"genre\": \"Adventure\",\n",
    "        \"copies_available\": 0,\n",
    "        \"borrowers\": [\n",
    "            {\"name\": \"Sanya Kapoor\", \"borrow_date\": \"2024-09-05\"},\n",
    "            \n",
    "        ]\n",
    "    }\n",
    "]\n",
    "\n",
    "# Display information about each book in the library\n",
    "for book in library:\n",
    "    print(f\"Title: {book['title']}\")\n",
    "    print(f\"Author: {book['author']}\")\n",
    "    print(f\"Genre: {book['genre']}\")\n",
    "    print(f\"Copies Available: {book['copies_available']}\")\n",
    "    print(\"Borrowers:\")\n",
    "    for borrower in book['borrowers']:\n",
    "        print(f\" - {borrower['name']} (Borrowed on: {borrower['borrow_date']})\")\n",
    "    print(\"\\n\")\n"
   ]
  }
 ],
 "metadata": {
  "language_info": {
   "name": "python"
  }
 },
 "nbformat": 4,
 "nbformat_minor": 2
}
