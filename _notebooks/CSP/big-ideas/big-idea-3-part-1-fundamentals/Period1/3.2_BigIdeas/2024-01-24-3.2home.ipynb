{
 "cells": [
  {
   "cell_type": "markdown",
   "metadata": {
    "vscode": {
     "languageId": "raw"
    }
   },
   "source": [
    "---\n",
    "layout: post\n",
    "title: 3.2 Big Ideas\n",
    "author: Soni Dhenuva, Katherine Chen, Aditi Bandaru, Sanya Kapoor\n",
    "permalink: /csp/big-idea/home\n",
    "menu: nav/csp_units/csp_bigIdea3_3.2_p1.html\n",
    "toc: true\n",
    "type: ccc\n",
    "courses: {  csp: {week: 8} }\n",
    "---"
   ]
  },
  {
   "cell_type": "markdown",
   "metadata": {},
   "source": [
    "- We will be going over all the data types in python and covering Python to JSON conversion Methods\n"
   ]
  },
  {
   "cell_type": "markdown",
   "metadata": {},
   "source": []
  }
 ],
 "metadata": {
  "language_info": {
   "name": "python"
  }
 },
 "nbformat": 4,
 "nbformat_minor": 2
}
