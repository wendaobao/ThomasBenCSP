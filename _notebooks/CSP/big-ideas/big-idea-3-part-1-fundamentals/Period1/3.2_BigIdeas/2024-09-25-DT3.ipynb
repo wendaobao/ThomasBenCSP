{
 "cells": [
  {
   "cell_type": "markdown",
   "metadata": {},
   "source": [
    "---\n",
    "layout: post\n",
    "toc: true\n",
    "title: Data Types 3 - Dictionaries, Booleans, None\n",
    "authors: Katherine Chen\n",
    "type: ccc\n",
    "permalink: /csp/big-idea/DT3\n",
    "menu: nav/csp_units/csp_bigIdea3_3.2_p1.html\n",
    "---"
   ]
  },
  {
   "cell_type": "markdown",
   "metadata": {},
   "source": [
    "# Dictionaries (dict)\n",
    "### Use Cases: Use dictionaries when you need to store key-value pairs, where each key maps to a specific value. Dictionaries are efficient for looking up values based on keys.\n",
    "\n",
    "Python: a dictionary has key value pairs, which is made up of keys (unique identifiers) and values (the data associated with each key). Keys must be immutable types (cannont be changed after created), while values can be any type. "
   ]
  },
  {
   "cell_type": "code",
   "execution_count": null,
   "metadata": {},
   "outputs": [],
   "source": [
    "# python\n",
    "student = {\n",
    "    \"name\": \"John\", # \"name\" is the key, \"John\" is the value\n",
    "    \"age\": 21,\n",
    "    \"major\": \"Applied Mathematic\"\n",
    "}\n",
    "\n",
    "print(student[\"name\"]) # accessing a value"
   ]
  },
  {
   "cell_type": "code",
   "execution_count": null,
   "metadata": {
    "vscode": {
     "languageId": "javascript"
    }
   },
   "outputs": [],
   "source": [
    "// javascript\n",
    "let student = {\n",
    "    name: \"John\",\n",
    "    age: 21,\n",
    "    major: \"Applied Mathematics\"\n",
    "}\n",
    "\n",
    "console.log(student.name); // accessing a value"
   ]
  },
  {
   "cell_type": "markdown",
   "metadata": {},
   "source": [
    "# Booleans (bool)\n",
    "### Use Cases: Use booleans to represent binary values, such as True or False. They are essential for making decisions and controlling the flow of your program using conditional statements.\n",
    "\n",
    "- Booleans can be used as is, as `True` or `False`.\n",
    "\n",
    "- Booleans can be used with logical operations.\n",
    "    `and`: returns `True` if both operands are `True`, otherwise returns `False`.\n",
    "    `or`: returns `True` if at least one operand is `True`, otherwise returns `False`.\n",
    "    `not`: Inverts the Boolean value; `True` because `False`, and vice versa. \n",
    "\n",
    "- Comparison Operations: Booleans can be used for the result of comparisons: ==, !=, >, <"
   ]
  },
  {
   "cell_type": "code",
   "execution_count": null,
   "metadata": {},
   "outputs": [],
   "source": [
    "# python\n",
    "is_student = True # Boolean value True\n",
    "is_graduated = False # Boolean value False\n",
    "\n",
    "# Using Boolean with logical operations\n",
    "print(is_student and is_graduated) # False, because one of them is False\n",
    "print(is_student or is_graduated) # True, because at least on is True\n",
    "print(not is_student) # False, because is_student is True\n",
    "\n",
    "age = 20\n",
    "height = 175\n",
    "\n",
    "# Comparison operations\n",
    "is_adult = age >= 18 # True, because 20>=18\n",
    "is_exact_height = height == 175 # True, because height is exactly 175\n",
    "\n",
    "# printing the results\n",
    "print(\"Is the person an adult?\", is_adult)\n",
    "print(\"Is the height exactly 175?\", is_exact_height)"
   ]
  },
  {
   "cell_type": "code",
   "execution_count": null,
   "metadata": {
    "vscode": {
     "languageId": "javascript"
    }
   },
   "outputs": [],
   "source": [
    "// javascript\n",
    "// js operators: === (scrictly equal), !== (both are different), && (both must be true)\n",
    "let isStudent = true;\n",
    "let isGraduated = false: \n",
    "\n",
    "// Using Boolean with logical operations\n",
    "console.log(isStudent && isGraduated); //false, because one of them is false\n",
    "console.log(isStudent || isGraduated); //true, because at least one is true\n",
    "console.log(!= isStudent); // false, because isStudent is true\n",
    "\n",
    "let age = 20;\n",
    "let height = 175;\n",
    "\n",
    "// Comparison operations\n",
    "let isAdult = age >= 18; //True, because 20>= 18\n",
    "let isExactHeight = height === 175; /// True, because height is exactly 175\n",
    "\n",
    "// printing the results \n",
    "console.log(\"Is the person an adult?\", isAdult); // Output: true\n",
    "console.log(\"Is the height exactly 175?\", isExactHeight); //Output: true"
   ]
  },
  {
   "cell_type": "markdown",
   "metadata": {},
   "source": [
    "# None (NoneType)\n",
    "#### Use Cases: Use None when you want to represent the absence of a value or indicate that a variable has no assigned value (null). It’s often used as a placeholder or default initial value.\n"
   ]
  },
  {
   "cell_type": "code",
   "execution_count": null,
   "metadata": {},
   "outputs": [],
   "source": [
    "# Default return value\n",
    "def my_function():\n",
    "    pass\n",
    "print(my_function()) # output: None\n",
    "\n",
    "# Placeholder\n",
    "list = None\n",
    "value = None\n",
    "\n",
    "# Comparisons - None is only equal to itself\n",
    "print(None == None) # True\n",
    "print(None == 0) # False"
   ]
  },
  {
   "cell_type": "code",
   "execution_count": null,
   "metadata": {
    "vscode": {
     "languageId": "javascript"
    }
   },
   "outputs": [],
   "source": [
    "// Default return value\n",
    "function myFunction() {\n",
    "    // no return value\n",
    "}\n",
    "\n",
    "console.log(myFunction());  // Output: undefined\n",
    "\n",
    "// Placeholder\n",
    "let list = null;\n",
    "let value = null;\n",
    "\n",
    "// Comparisons - null is only equal to itself and undefined\n",
    "console.log(null === null);   // true\n",
    "console.log(null === 0);      // false"
   ]
  }
 ],
 "metadata": {
  "language_info": {
   "name": "python"
  }
 },
 "nbformat": 4,
 "nbformat_minor": 2
}
