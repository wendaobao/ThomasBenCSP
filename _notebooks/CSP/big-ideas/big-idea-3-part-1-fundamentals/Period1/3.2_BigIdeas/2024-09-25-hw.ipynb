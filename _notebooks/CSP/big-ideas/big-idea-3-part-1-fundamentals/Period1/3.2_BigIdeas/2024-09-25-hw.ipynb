{
 "cells": [
  {
   "cell_type": "markdown",
   "metadata": {},
   "source": [
    "---\n",
    "layout: post\n",
    "toc: true\n",
    "title: Homework\n",
    "authors: Soni Dhenuva, Katherine Chen, Aditi Bandaru, Sanya Kapoor\n",
    "type: ccc\n",
    "permalink: /csp/big-idea/hw\n",
    "menu: nav/csp_units/csp_bigIdea3_3.2_p1.html\n",
    "---"
   ]
  },
  {
   "cell_type": "markdown",
   "metadata": {},
   "source": [
    "## Homework\n",
    "Task: Write a program that declares variables of different data types (integer, float, string) and performs basic operations on them.\n",
    "\n",
    "Create a list of data that could work with your GitHub Pages Blog Topic. For example, if your blog was about movies from different genres, make a list of movies for every genre. "
   ]
  }
 ],
 "metadata": {
  "language_info": {
   "name": "python"
  }
 },
 "nbformat": 4,
 "nbformat_minor": 2
}
