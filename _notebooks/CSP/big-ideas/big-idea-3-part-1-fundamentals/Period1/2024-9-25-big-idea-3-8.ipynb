{
 "cells": [
  {
   "cell_type": "raw",
   "id": "0fecc5f9",
   "metadata": {},
   "source": [
    "---\n",
    "toc: false\n",
    "comments: true\n",
    "layout: post\n",
    "title: 3-8 Iteration\n",
    "description: Learn how to do iterations/loops in Java and Python\n",
    "permalink: /csp/big-idea/p1/3-8\n",
    "categories: [CSP Big Ideas]\n",
    "author: Shawn, Aarav, Arya\n",
    "menu: nav/csp_units/csp_unit3_p1_fundamentals.html\n",
    "---"
   ]
  },
  {
   "cell_type": "markdown",
   "id": "1210fefc",
   "metadata": {},
   "source": [
    "Iteration 3.8\n",
    "\n",
    "Introduction:\n",
    "\n",
    "Iterations or Loops are super important when coding in Python or Java. They essentially allow the coder to repeat tasks over and over again for as long as you want and as much as you want.\n",
    "\n",
    "There are 4 types of loops that will be covered:\n",
    "- For Loops\n",
    "- While Loops\n",
    "- Do-While Loops\n",
    "- Infinite Loops"
   ]
  },
  {
   "cell_type": "code",
   "execution_count": null,
   "id": "a36e082b",
   "metadata": {},
   "outputs": [],
   "source": []
  }
 ],
 "metadata": {
  "kernelspec": {
   "display_name": "Python 3 (ipykernel)",
   "language": "python",
   "name": "python3"
  },
  "language_info": {
   "codemirror_mode": {
    "name": "ipython",
    "version": 3
   },
   "file_extension": ".py",
   "mimetype": "text/x-python",
   "name": "python",
   "nbconvert_exporter": "python",
   "pygments_lexer": "ipython3",
   "version": "3.10.12"
  }
 },
 "nbformat": 4,
 "nbformat_minor": 5
}
